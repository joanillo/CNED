{
 "cells": [
  {
   "cell_type": "code",
   "execution_count": 6,
   "id": "assigned-hello",
   "metadata": {},
   "outputs": [
    {
     "data": {
      "application/vnd.jupyter.widget-view+json": {
       "model_id": "00b4fd419f3a48d48fb32e660cb66778",
       "version_major": 2,
       "version_minor": 0
      },
      "text/plain": [
       "interactive(children=(FloatSlider(value=1.0, description='nivell_soroll', max=2.0), IntSlider(value=30, descri…"
      ]
     },
     "metadata": {},
     "output_type": "display_data"
    }
   ],
   "source": [
    "%matplotlib inline\n",
    "from ipywidgets import interactive\n",
    "import numpy as np\n",
    "import pylab as plt\n",
    "\n",
    "# tir parabòlic: y = vy*t - .5gt^2\n",
    "vy = 10 # 10m/s\n",
    "g = 9.81 # m/s^2\n",
    "t_max = 2*vy/g\n",
    "\n",
    "def f(nivell_soroll, num_punts):\n",
    "    t = np.linspace(0, t_max, num_punts)\n",
    "    y_or = vy*t - .5*g*t**2\n",
    "    noise = np.random.normal(0, nivell_soroll, num_punts) # simulem dades experimentals\n",
    "    y = y_or + noise\n",
    "\n",
    "    # ajustament a una paràbola\n",
    "    z = np.polyfit(t, y, 2)\n",
    "    g_exp = 2.0*z[0]\n",
    "\n",
    "    t_ = np.linspace(0, t_max, 100)\n",
    "    y_ = z[0]*t_**2 + z[1]*t_ + z[2]\n",
    "\n",
    "    fig, ax = plt.subplots()\n",
    "    plt.plot(t_, y_, t, y, 'bo')\n",
    "    plt.suptitle(\"Tir parabòlic. Regressió quadràtica\")\n",
    "    plt.title(\"y = \" + str(round(z[0],3)) + \"t^2 + \" + str(round(z[1],3)) + \"t + \" + str(round(z[2],3)) + \" -> g exp = \" + str(round(g_exp,3)) + \" m/s^2\")\n",
    "    ax.set(xlabel='temps (s)', ylabel='y (m)')\n",
    "    ax.grid()\n",
    "    plt.show()\n",
    "    \n",
    "interactive_plot = interactive(f, nivell_soroll=(0.0, 2.0),  num_punts=(10, 50))\n",
    "interactive_plot\n"
   ]
  },
  {
   "cell_type": "code",
   "execution_count": null,
   "id": "valued-maldives",
   "metadata": {},
   "outputs": [],
   "source": []
  }
 ],
 "metadata": {
  "kernelspec": {
   "display_name": "Python 3",
   "language": "python",
   "name": "python3"
  },
  "language_info": {
   "codemirror_mode": {
    "name": "ipython",
    "version": 3
   },
   "file_extension": ".py",
   "mimetype": "text/x-python",
   "name": "python",
   "nbconvert_exporter": "python",
   "pygments_lexer": "ipython3",
   "version": "3.8.5"
  }
 },
 "nbformat": 4,
 "nbformat_minor": 5
}
